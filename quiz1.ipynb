{
 "cells": [
  {
   "attachments": {
    "19a87bd8-663b-4dc8-8de2-ec0cd863825c.png": {
     "image/png": "[encoded data removed]"
    }
   },
   "cell_type": "markdown",
   "id": "dd2d18e7-bf9c-4404-9721-7866e1ea1967",
   "metadata": {},
   "source": [
    "![image.png](attachment:19a87bd8-663b-4dc8-8de2-ec0cd863825c.png)"
   ]
  },
  {
   "cell_type": "code",
   "execution_count": null,
   "id": "f7895474-b593-461d-9ada-59aa9780df6d",
   "metadata": {},
   "outputs": [],
   "source": [
    "# 2. the main file is named finn_csci_1070 this is my directory csci_1070 is your repo finreeves_csci_1070 is my repo homework is my waylay folder"
   ]
  },
  {
   "cell_type": "code",
   "execution_count": 4,
   "id": "10d43e0b-84c9-4977-8d36-ad2012a9b3e2",
   "metadata": {
    "scrolled": true
   },
   "outputs": [
    {
     "name": "stdout",
     "output_type": "stream",
     "text": [
      "january\n",
      "febuary\n",
      "march\n",
      "april my birthday\n",
      "may\n",
      "june\n",
      "july\n",
      "august\n",
      "september\n",
      "october\n",
      "november\n",
      "december\n"
     ]
    }
   ],
   "source": [
    "months = ['january','febuary','march','april','may','june','july','august','september','october','november','december']\n",
    "\n",
    "for month in months:\n",
    "    if month == \"april\":\n",
    "        print(\"april my birthday\")\n",
    "    else:\n",
    "        print(month)"
   ]
  },
  {
   "cell_type": "code",
   "execution_count": null,
   "id": "64f2e3e2-a363-48ed-b269-4f743aac5b23",
   "metadata": {},
   "outputs": [],
   "source": []
  }
 ],
 "metadata": {
  "kernelspec": {
   "display_name": "Python 3 (ipykernel)",
   "language": "python",
   "name": "python3"
  },
  "language_info": {
   "codemirror_mode": {
    "name": "ipython",
    "version": 3
   },
   "file_extension": ".py",
   "mimetype": "text/x-python",
   "name": "python",
   "nbconvert_exporter": "python",
   "pygments_lexer": "ipython3",
   "version": "3.10.11"
  }
 },
 "nbformat": 4,
 "nbformat_minor": 5
}
