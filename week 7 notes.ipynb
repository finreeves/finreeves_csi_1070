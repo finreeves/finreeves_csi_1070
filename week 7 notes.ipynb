{
 "cells": [
  {
   "cell_type": "code",
   "execution_count": null,
   "id": "a7360a38-7a11-4247-943a-f2b94a4f21a0",
   "metadata": {},
   "outputs": [],
   "source": [
    "# A C I D\n",
    "# Atomicity all of the actions either succeed or fail so if even one part of the actions fail all are stopped and do not complete\n",
    "# Consistency When the action is run it takes the database from one consistent state to another consistent state so all aspects of a database are updated\n",
    "# at the same time\n",
    "# Isolation all actions are seperated into individual instances so actions are not taken simultaneousy\n",
    "# Durability Data entered into an databse or data modified is saved even if the database has a failure digital or physical"
   ]
  }
 ],
 "metadata": {
  "kernelspec": {
   "display_name": "Python 3 (ipykernel)",
   "language": "python",
   "name": "python3"
  },
  "language_info": {
   "codemirror_mode": {
    "name": "ipython",
    "version": 3
   },
   "file_extension": ".py",
   "mimetype": "text/x-python",
   "name": "python",
   "nbconvert_exporter": "python",
   "pygments_lexer": "ipython3",
   "version": "3.10.11"
  }
 },
 "nbformat": 4,
 "nbformat_minor": 5
}
