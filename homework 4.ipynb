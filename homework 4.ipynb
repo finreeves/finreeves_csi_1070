{
 "cells": [
  {
   "cell_type": "code",
   "execution_count": 2,
   "id": "02e28c7a-db89-4096-aafe-297f1bbe4769",
   "metadata": {},
   "outputs": [],
   "source": [
    "import pandas as pd\n",
    "import numpy as np\n",
    "import math\n",
    "import statistics\n",
    "from scipy import stats\n",
    "import matplotlib.pyplot as plt"
   ]
  },
  {
   "cell_type": "code",
   "execution_count": 89,
   "id": "0f4a1aa1-ffa8-4ea7-b6f6-8fcc3c518fdd",
   "metadata": {},
   "outputs": [
    {
     "data": {
      "text/html": [
       "<div>\n",
       "<style scoped>\n",
       "    .dataframe tbody tr th:only-of-type {\n",
       "        vertical-align: middle;\n",
       "    }\n",
       "\n",
       "    .dataframe tbody tr th {\n",
       "        vertical-align: top;\n",
       "    }\n",
       "\n",
       "    .dataframe thead th {\n",
       "        text-align: right;\n",
       "    }\n",
       "</style>\n",
       "<table border=\"1\" class=\"dataframe\">\n",
       "  <thead>\n",
       "    <tr style=\"text-align: right;\">\n",
       "      <th></th>\n",
       "      <th>Timestamp</th>\n",
       "      <th>What is your name?</th>\n",
       "      <th>What are your pronouns?</th>\n",
       "      <th>What state/country were you born in?</th>\n",
       "      <th>How many siblings do you have?</th>\n",
       "      <th>How much experience do you have programming?</th>\n",
       "      <th>What class are you in?</th>\n",
       "      <th>Are you working while in school?</th>\n",
       "      <th>How many pets and of which kind do you have?</th>\n",
       "      <th>What is your favorite type of food?</th>\n",
       "      <th>Where do you live?</th>\n",
       "      <th>Do you take the metro?</th>\n",
       "      <th>What is your major?</th>\n",
       "      <th>How old are you?</th>\n",
       "      <th>What is your favorite TV show?</th>\n",
       "      <th>What is your favorite video game?</th>\n",
       "      <th>What is your favorite book?</th>\n",
       "      <th>Why are you taking this class?</th>\n",
       "      <th>Whats your favorite bash command?</th>\n",
       "    </tr>\n",
       "  </thead>\n",
       "  <tbody>\n",
       "    <tr>\n",
       "      <th>0</th>\n",
       "      <td>2024/09/05 6:10:09 PM EST</td>\n",
       "      <td>Alex</td>\n",
       "      <td>He/Him</td>\n",
       "      <td>Mexico</td>\n",
       "      <td>1</td>\n",
       "      <td>1-2 years</td>\n",
       "      <td>Freshman</td>\n",
       "      <td>No</td>\n",
       "      <td>1, Dog</td>\n",
       "      <td>Japanese</td>\n",
       "      <td>Off campus</td>\n",
       "      <td>No</td>\n",
       "      <td>Computer Science</td>\n",
       "      <td>18</td>\n",
       "      <td>Friends</td>\n",
       "      <td>Persona Series</td>\n",
       "      <td>Anything about mythology</td>\n",
       "      <td>My major</td>\n",
       "      <td>cd and ls</td>\n",
       "    </tr>\n",
       "    <tr>\n",
       "      <th>1</th>\n",
       "      <td>2024/09/05 6:33:51 PM EST</td>\n",
       "      <td>Tanay</td>\n",
       "      <td>He/Him</td>\n",
       "      <td>Missouri</td>\n",
       "      <td>1</td>\n",
       "      <td>0-3 months</td>\n",
       "      <td>Freshman</td>\n",
       "      <td>No</td>\n",
       "      <td>0</td>\n",
       "      <td>Mexican</td>\n",
       "      <td>On campus</td>\n",
       "      <td>No</td>\n",
       "      <td>CS/Business</td>\n",
       "      <td>18</td>\n",
       "      <td>Suits</td>\n",
       "      <td>Super Smash bros</td>\n",
       "      <td>Percy Jackson</td>\n",
       "      <td>To get a deeper understanding and basics of cs</td>\n",
       "      <td>ls</td>\n",
       "    </tr>\n",
       "    <tr>\n",
       "      <th>2</th>\n",
       "      <td>2024/09/05 6:34:21 PM EST</td>\n",
       "      <td>Akshita</td>\n",
       "      <td>She/Her</td>\n",
       "      <td>Frankfurt, Germany</td>\n",
       "      <td>1</td>\n",
       "      <td>0-3 months</td>\n",
       "      <td>Freshman</td>\n",
       "      <td>No</td>\n",
       "      <td>no pets!</td>\n",
       "      <td>Italian</td>\n",
       "      <td>On campus</td>\n",
       "      <td>No</td>\n",
       "      <td>Data Science</td>\n",
       "      <td>18</td>\n",
       "      <td>How I Met Your Mother</td>\n",
       "      <td>Mario Kart</td>\n",
       "      <td>Harry Potter</td>\n",
       "      <td>To learn programming for my major!</td>\n",
       "      <td>git commit</td>\n",
       "    </tr>\n",
       "    <tr>\n",
       "      <th>3</th>\n",
       "      <td>2024/09/05 6:35:03 PM EST</td>\n",
       "      <td>Anthony</td>\n",
       "      <td>He/Him</td>\n",
       "      <td>Wisconsin</td>\n",
       "      <td>1</td>\n",
       "      <td>0-3 months</td>\n",
       "      <td>Senior</td>\n",
       "      <td>Yes</td>\n",
       "      <td>I have two dogs and they are both at home</td>\n",
       "      <td>Italian</td>\n",
       "      <td>Off campus</td>\n",
       "      <td>No</td>\n",
       "      <td>Business Economics</td>\n",
       "      <td>21</td>\n",
       "      <td>Breaking Bad</td>\n",
       "      <td>Call of Duty</td>\n",
       "      <td>NaN</td>\n",
       "      <td>Programming has always been an interest of mine</td>\n",
       "      <td>ls</td>\n",
       "    </tr>\n",
       "    <tr>\n",
       "      <th>4</th>\n",
       "      <td>2024/09/05 6:35:56 PM EST</td>\n",
       "      <td>Nuri</td>\n",
       "      <td>He/Him</td>\n",
       "      <td>st. louis, mo</td>\n",
       "      <td>2</td>\n",
       "      <td>1-2 years</td>\n",
       "      <td>Freshman</td>\n",
       "      <td>No</td>\n",
       "      <td>0</td>\n",
       "      <td>American</td>\n",
       "      <td>On campus</td>\n",
       "      <td>No</td>\n",
       "      <td>computer science</td>\n",
       "      <td>18</td>\n",
       "      <td>Hunter x Hunter</td>\n",
       "      <td>valorant</td>\n",
       "      <td>berserk</td>\n",
       "      <td>interested in having a career in data</td>\n",
       "      <td>ls</td>\n",
       "    </tr>\n",
       "    <tr>\n",
       "      <th>5</th>\n",
       "      <td>2024/09/05 6:35:57 PM EST</td>\n",
       "      <td>Mahley</td>\n",
       "      <td>She/Her</td>\n",
       "      <td>Missouri</td>\n",
       "      <td>1</td>\n",
       "      <td>0-3 months</td>\n",
       "      <td>Freshman</td>\n",
       "      <td>No</td>\n",
       "      <td>0</td>\n",
       "      <td>Japanese</td>\n",
       "      <td>On campus</td>\n",
       "      <td>No</td>\n",
       "      <td>Computer Science</td>\n",
       "      <td>18</td>\n",
       "      <td>The Office</td>\n",
       "      <td>until dawn</td>\n",
       "      <td>I don't read books</td>\n",
       "      <td>to become a software engineer</td>\n",
       "      <td>print</td>\n",
       "    </tr>\n",
       "    <tr>\n",
       "      <th>6</th>\n",
       "      <td>2024/09/05 6:36:02 PM EST</td>\n",
       "      <td>Chetan</td>\n",
       "      <td>He/Him</td>\n",
       "      <td>India</td>\n",
       "      <td>1</td>\n",
       "      <td>0-3 months</td>\n",
       "      <td>Freshman</td>\n",
       "      <td>No</td>\n",
       "      <td>none</td>\n",
       "      <td>Indian</td>\n",
       "      <td>On campus</td>\n",
       "      <td>No</td>\n",
       "      <td>cs/ finance</td>\n",
       "      <td>18</td>\n",
       "      <td>all of us are dead</td>\n",
       "      <td>minecraft</td>\n",
       "      <td>harry potter</td>\n",
       "      <td>its for my major</td>\n",
       "      <td>i dont know what that is</td>\n",
       "    </tr>\n",
       "    <tr>\n",
       "      <th>7</th>\n",
       "      <td>2024/09/05 6:36:13 PM EST</td>\n",
       "      <td>Steven</td>\n",
       "      <td>He/Him</td>\n",
       "      <td>St. Louis MO</td>\n",
       "      <td>1</td>\n",
       "      <td>6 months - 1 year</td>\n",
       "      <td>Freshman</td>\n",
       "      <td>Yes</td>\n",
       "      <td>NaN</td>\n",
       "      <td>Mexican</td>\n",
       "      <td>Off campus</td>\n",
       "      <td>No</td>\n",
       "      <td>Computer Science</td>\n",
       "      <td>18</td>\n",
       "      <td>X-Men 97</td>\n",
       "      <td>Devil Survivor 2 Overclocked</td>\n",
       "      <td>Series of Unfortunate Events - Reptile Room</td>\n",
       "      <td>To learn the basics of Coding since I only rea...</td>\n",
       "      <td>ls</td>\n",
       "    </tr>\n",
       "    <tr>\n",
       "      <th>8</th>\n",
       "      <td>2024/09/05 6:36:14 PM EST</td>\n",
       "      <td>Nico</td>\n",
       "      <td>multiple: he/him and they/them</td>\n",
       "      <td>Missouri, USA</td>\n",
       "      <td>2</td>\n",
       "      <td>0-3 months</td>\n",
       "      <td>Freshman</td>\n",
       "      <td>Yes</td>\n",
       "      <td>1 dog and 1 cat</td>\n",
       "      <td>Chinese</td>\n",
       "      <td>On campus</td>\n",
       "      <td>Yes</td>\n",
       "      <td>Computer Science; considering an additional ma...</td>\n",
       "      <td>18</td>\n",
       "      <td>It's Always Sunny In Philadelphia</td>\n",
       "      <td>Pikmin</td>\n",
       "      <td>Percy Jackson</td>\n",
       "      <td>It's required for my major + I know nothing ab...</td>\n",
       "      <td>cd</td>\n",
       "    </tr>\n",
       "    <tr>\n",
       "      <th>9</th>\n",
       "      <td>2024/09/05 6:36:24 PM EST</td>\n",
       "      <td>Iovane</td>\n",
       "      <td>He/Him</td>\n",
       "      <td>Georgia (the country not the state)</td>\n",
       "      <td>4</td>\n",
       "      <td>0-3 months</td>\n",
       "      <td>Freshman</td>\n",
       "      <td>Yes</td>\n",
       "      <td>2 cats, one dog</td>\n",
       "      <td>Mexican</td>\n",
       "      <td>Off campus</td>\n",
       "      <td>No</td>\n",
       "      <td>Data Science</td>\n",
       "      <td>19</td>\n",
       "      <td>GOT</td>\n",
       "      <td>Minecraft</td>\n",
       "      <td>1984</td>\n",
       "      <td>Major Requirement</td>\n",
       "      <td>cd</td>\n",
       "    </tr>\n",
       "  </tbody>\n",
       "</table>\n",
       "</div>"
      ],
      "text/plain": [
       "                   Timestamp What is your name?  \\\n",
       "0  2024/09/05 6:10:09 PM EST               Alex   \n",
       "1  2024/09/05 6:33:51 PM EST              Tanay   \n",
       "2  2024/09/05 6:34:21 PM EST            Akshita   \n",
       "3  2024/09/05 6:35:03 PM EST            Anthony   \n",
       "4  2024/09/05 6:35:56 PM EST               Nuri   \n",
       "5  2024/09/05 6:35:57 PM EST             Mahley   \n",
       "6  2024/09/05 6:36:02 PM EST             Chetan   \n",
       "7  2024/09/05 6:36:13 PM EST             Steven   \n",
       "8  2024/09/05 6:36:14 PM EST               Nico   \n",
       "9  2024/09/05 6:36:24 PM EST             Iovane   \n",
       "\n",
       "          What are your pronouns? What state/country were you born in?  \\\n",
       "0                          He/Him                               Mexico   \n",
       "1                          He/Him                             Missouri   \n",
       "2                         She/Her                   Frankfurt, Germany   \n",
       "3                          He/Him                            Wisconsin   \n",
       "4                          He/Him                        st. louis, mo   \n",
       "5                         She/Her                             Missouri   \n",
       "6                          He/Him                               India    \n",
       "7                          He/Him                         St. Louis MO   \n",
       "8  multiple: he/him and they/them                        Missouri, USA   \n",
       "9                          He/Him  Georgia (the country not the state)   \n",
       "\n",
       "   How many siblings do you have?  \\\n",
       "0                               1   \n",
       "1                               1   \n",
       "2                               1   \n",
       "3                               1   \n",
       "4                               2   \n",
       "5                               1   \n",
       "6                               1   \n",
       "7                               1   \n",
       "8                               2   \n",
       "9                               4   \n",
       "\n",
       "  How much experience do you have programming? What class are you in?   \\\n",
       "0                                    1-2 years                Freshman   \n",
       "1                                   0-3 months                Freshman   \n",
       "2                                   0-3 months                Freshman   \n",
       "3                                   0-3 months                  Senior   \n",
       "4                                    1-2 years                Freshman   \n",
       "5                                   0-3 months                Freshman   \n",
       "6                                   0-3 months                Freshman   \n",
       "7                            6 months - 1 year                Freshman   \n",
       "8                                   0-3 months                Freshman   \n",
       "9                                   0-3 months                Freshman   \n",
       "\n",
       "  Are you working while in school?  \\\n",
       "0                               No   \n",
       "1                               No   \n",
       "2                               No   \n",
       "3                              Yes   \n",
       "4                               No   \n",
       "5                               No   \n",
       "6                               No   \n",
       "7                              Yes   \n",
       "8                              Yes   \n",
       "9                              Yes   \n",
       "\n",
       "  How many pets and of which kind do you have?  \\\n",
       "0                                       1, Dog   \n",
       "1                                            0   \n",
       "2                                     no pets!   \n",
       "3    I have two dogs and they are both at home   \n",
       "4                                            0   \n",
       "5                                            0   \n",
       "6                                         none   \n",
       "7                                          NaN   \n",
       "8                              1 dog and 1 cat   \n",
       "9                              2 cats, one dog   \n",
       "\n",
       "  What is your favorite type of food? Where do you live?  \\\n",
       "0                            Japanese         Off campus   \n",
       "1                             Mexican          On campus   \n",
       "2                             Italian          On campus   \n",
       "3                             Italian         Off campus   \n",
       "4                            American          On campus   \n",
       "5                            Japanese          On campus   \n",
       "6                              Indian          On campus   \n",
       "7                             Mexican         Off campus   \n",
       "8                             Chinese          On campus   \n",
       "9                             Mexican         Off campus   \n",
       "\n",
       "  Do you take the metro?                                What is your major?  \\\n",
       "0                     No                                   Computer Science   \n",
       "1                     No                                        CS/Business   \n",
       "2                     No                                       Data Science   \n",
       "3                     No                                 Business Economics   \n",
       "4                     No                                   computer science   \n",
       "5                     No                                   Computer Science   \n",
       "6                     No                                       cs/ finance    \n",
       "7                     No                                   Computer Science   \n",
       "8                    Yes  Computer Science; considering an additional ma...   \n",
       "9                     No                                       Data Science   \n",
       "\n",
       "   How old are you?     What is your favorite TV show?  \\\n",
       "0                18                            Friends   \n",
       "1                18                              Suits   \n",
       "2                18              How I Met Your Mother   \n",
       "3                21                       Breaking Bad   \n",
       "4                18                    Hunter x Hunter   \n",
       "5                18                         The Office   \n",
       "6                18                 all of us are dead   \n",
       "7                18                           X-Men 97   \n",
       "8                18  It's Always Sunny In Philadelphia   \n",
       "9                19                                GOT   \n",
       "\n",
       "  What is your favorite video game?  \\\n",
       "0                    Persona Series   \n",
       "1                  Super Smash bros   \n",
       "2                        Mario Kart   \n",
       "3                      Call of Duty   \n",
       "4                          valorant   \n",
       "5                       until dawn    \n",
       "6                        minecraft    \n",
       "7      Devil Survivor 2 Overclocked   \n",
       "8                            Pikmin   \n",
       "9                         Minecraft   \n",
       "\n",
       "                   What is your favorite book?  \\\n",
       "0                     Anything about mythology   \n",
       "1                                Percy Jackson   \n",
       "2                                 Harry Potter   \n",
       "3                                          NaN   \n",
       "4                                      berserk   \n",
       "5                           I don't read books   \n",
       "6                                harry potter    \n",
       "7  Series of Unfortunate Events - Reptile Room   \n",
       "8                                Percy Jackson   \n",
       "9                                         1984   \n",
       "\n",
       "                     Why are you taking this class?   \\\n",
       "0                                           My major   \n",
       "1     To get a deeper understanding and basics of cs   \n",
       "2                 To learn programming for my major!   \n",
       "3    Programming has always been an interest of mine   \n",
       "4              interested in having a career in data   \n",
       "5                      to become a software engineer   \n",
       "6                                  its for my major    \n",
       "7  To learn the basics of Coding since I only rea...   \n",
       "8  It's required for my major + I know nothing ab...   \n",
       "9                                  Major Requirement   \n",
       "\n",
       "  Whats your favorite bash command?  \n",
       "0                         cd and ls  \n",
       "1                                ls  \n",
       "2                        git commit  \n",
       "3                                ls  \n",
       "4                                ls  \n",
       "5                             print  \n",
       "6         i dont know what that is   \n",
       "7                                ls  \n",
       "8                                cd  \n",
       "9                                cd  "
      ]
     },
     "execution_count": 89,
     "metadata": {},
     "output_type": "execute_result"
    }
   ],
   "source": [
    "survey_df = pd.read_csv(\"CSCI_Fall_2024_survey.csv\")\n",
    "survey_df.head(10)"
   ]
  },
  {
   "cell_type": "code",
   "execution_count": 90,
   "id": "a526deca-4274-45b6-b75b-ac52576ce736",
   "metadata": {},
   "outputs": [
    {
     "data": {
      "text/plain": [
       "Index(['Timestamp', 'What is your name?', 'What are your pronouns?',\n",
       "       'What state/country were you born in?',\n",
       "       'How many siblings do you have?',\n",
       "       'How much experience do you have programming?',\n",
       "       'What class are you in? ', 'Are you working while in school?',\n",
       "       'How many pets and of which kind do you have?',\n",
       "       'What is your favorite type of food?', 'Where do you live?',\n",
       "       'Do you take the metro?', 'What is your major?', 'How old are you?',\n",
       "       'What is your favorite TV show?', 'What is your favorite video game?',\n",
       "       'What is your favorite book?', 'Why are you taking this class? ',\n",
       "       'Whats your favorite bash command?'],\n",
       "      dtype='object')"
      ]
     },
     "execution_count": 90,
     "metadata": {},
     "output_type": "execute_result"
    }
   ],
   "source": [
    "survey_df.columns"
   ]
  },
  {
   "cell_type": "code",
   "execution_count": 8,
   "id": "f8298af0-b9c0-40c2-9a70-fb1d6ed23925",
   "metadata": {},
   "outputs": [
    {
     "data": {
      "text/plain": [
       "What state/country were you born in?\n",
       "Missouri                               5\n",
       "St. Louis MO                           2\n",
       "Mexico                                 1\n",
       "Wisconsin                              1\n",
       "Frankfurt, Germany                     1\n",
       "st. louis, mo                          1\n",
       "India                                  1\n",
       "Missouri, USA                          1\n",
       "Georgia (the country not the state)    1\n",
       "New Jersey                             1\n",
       "st.louis mo                            1\n",
       "Saint Louis, Missouri                  1\n",
       "Kansas, Overland Park                  1\n",
       "United States Missouri                 1\n",
       "Oklahoma                               1\n",
       "I was born in Chandigarh, India!       1\n",
       "People's Republic of China             1\n",
       "india                                  1\n",
       "Cameroon                               1\n",
       "TEXAS                                  1\n",
       "Kazakhstah                             1\n",
       "Name: count, dtype: int64"
      ]
     },
     "execution_count": 8,
     "metadata": {},
     "output_type": "execute_result"
    }
   ],
   "source": [
    "survey_df['What state/country were you born in?'].value_counts()"
   ]
  },
  {
   "cell_type": "code",
   "execution_count": 102,
   "id": "5a553891-7a53-41e2-b8c7-291fff4a61ff",
   "metadata": {},
   "outputs": [],
   "source": [
    "survey_df[\"Origin\"]=np.where(survey_df['What state/country were you born in?']==\"Mexico\",\"Mexico\",\n",
    "                                np.where(survey_df['What state/country were you born in?']==\"Wisconsin\",\"Wisconsin\",\n",
    "                                np.where(survey_df['What state/country were you born in?']==\"Georgia (the country not the state)\",\"Georgia the country\",\n",
    "                                np.where(survey_df['What state/country were you born in?']==\"TEXAS\",\"Texas\",\n",
    "                                np.where(survey_df['What state/country were you born in?']==\"New Jersey\",\"New Jersey\",\n",
    "                                np.where(survey_df['What state/country were you born in?']==\"Frankfurt, Germany\",\"Germany\",\n",
    "                                np.where(survey_df['What state/country were you born in?']==\"I was born in Chandigarh, India!\",\"India\",\n",
    "                                np.where(survey_df['What state/country were you born in?']==\"india\",\"India\",\n",
    "                                np.where(survey_df['What state/country were you born in?']==\"Kansas, Overland Park\",\"Kansas\",\n",
    "                                np.where(survey_df['What state/country were you born in?']==\"Oklahoma\",\"Oklahoma\",\n",
    "                                np.where(survey_df['What state/country were you born in?']==\"People's Republic of China\",\"China\",\n",
    "                                np.where(survey_df['What state/country were you born in?']==\"Cameroon\",\"Cameroon\",\n",
    "                                np.where(survey_df['What state/country were you born in?']==\"Kazakhstah\",\"Kazakhstah\",\n",
    "                                np.where(survey_df['What state/country were you born in?']==\"India \",\"India\",\n",
    "                                \"Missouri\"))))))))))))))"
   ]
  },
  {
   "cell_type": "code",
   "execution_count": 103,
   "id": "87432fcc-97d7-488c-a2de-e1dbdab3c453",
   "metadata": {},
   "outputs": [
    {
     "data": {
      "text/plain": [
       "Origin\n",
       "Missouri               12\n",
       "India                   3\n",
       "Mexico                  1\n",
       "Germany                 1\n",
       "Wisconsin               1\n",
       "Georgia the country     1\n",
       "New Jersey              1\n",
       "Kansas                  1\n",
       "Oklahoma                1\n",
       "China                   1\n",
       "Cameroon                1\n",
       "Texas                   1\n",
       "Kazakhstah              1\n",
       "Name: count, dtype: int64"
      ]
     },
     "execution_count": 103,
     "metadata": {},
     "output_type": "execute_result"
    }
   ],
   "source": [
    "survey_df['Origin'].value_counts()"
   ]
  },
  {
   "cell_type": "code",
   "execution_count": 104,
   "id": "c01c0549-bc8d-42b3-8cce-14bc06d60b4a",
   "metadata": {},
   "outputs": [
    {
     "data": {
      "text/plain": [
       "How many pets and of which kind do you have?\n",
       "0                                                                                                      7\n",
       "1, Dog                                                                                                 1\n",
       "no pets!                                                                                               1\n",
       "I have two dogs and they are both at home                                                              1\n",
       "none                                                                                                   1\n",
       "1 dog and 1 cat                                                                                        1\n",
       "2 cats, one dog                                                                                        1\n",
       "I have two dogs. They're bernedoodles.                                                                 1\n",
       "1                                                                                                      1\n",
       "2, Grumpy the exotic shorthair w heterchromia and my dog Furball is a rescue but he is just as cute    1\n",
       "2 minature schnauzers                                                                                  1\n",
       "2 dogs                                                                                                 1\n",
       "2, dogs.                                                                                               1\n",
       "None :( But I really want a cat!                                                                       1\n",
       "1 Cat; 6 Dogs (Over two households)                                                                    1\n",
       "had 8 dogs, not anymore                                                                                1\n",
       "no pets                                                                                                1\n",
       "three dogs                                                                                             1\n",
       "No pets                                                                                                1\n",
       "Name: count, dtype: int64"
      ]
     },
     "execution_count": 104,
     "metadata": {},
     "output_type": "execute_result"
    }
   ],
   "source": [
    "survey_df['How many pets and of which kind do you have?'].value_counts()"
   ]
  },
  {
   "cell_type": "code",
   "execution_count": 105,
   "id": "f19440e2-baa2-462c-8715-7366cd2f7fd8",
   "metadata": {},
   "outputs": [
    {
     "data": {
      "text/plain": [
       "Pets\n",
       "no pets              14\n",
       "2 dogs                5\n",
       "1 dog 1 cat           2\n",
       "1 dog                 1\n",
       "1 dog 2 cats          1\n",
       "1 unspecified pet     1\n",
       "6 dogs 1 cat          1\n",
       "3 dogs                1\n",
       "Name: count, dtype: int64"
      ]
     },
     "execution_count": 105,
     "metadata": {},
     "output_type": "execute_result"
    }
   ],
   "source": [
    "survey_df['Pets']=np.where(survey_df['How many pets and of which kind do you have?']==\"1, Dog\",\"1 dog\",\n",
    "                        np.where(survey_df['How many pets and of which kind do you have?']==\"I have two dogs and they are both at home\",\"2 dogs\",\n",
    "                        np.where(survey_df['How many pets and of which kind do you have?']==\"1 dog and 1 cat\",\"1 dog 1 cat\",\n",
    "                        np.where(survey_df['How many pets and of which kind do you have?']==\"2 cats, one dog\",\"1 dog 2 cats\",\n",
    "                        np.where(survey_df['How many pets and of which kind do you have?']==\"I have two dogs. They're bernedoodles.\",\"2 dogs\",\n",
    "                        np.where(survey_df['How many pets and of which kind do you have?']==\"1\",\"1 unspecified pet\",\n",
    "                        np.where(survey_df['How many pets and of which kind do you have?']==\"2, Grumpy the exotic shorthair w heterchromia and my dog Furball is a rescue but he is just as cute\",\"1 dog 1 cat\",\n",
    "                        np.where(survey_df['How many pets and of which kind do you have?']==\"2 minature schnauzers\",\"2 dogs\",\n",
    "                        np.where(survey_df['How many pets and of which kind do you have?']==\"2 dogs\",\"2 dogs\",\n",
    "                        np.where(survey_df['How many pets and of which kind do you have?']==\"2, dogs.\",\"2 dogs\",\n",
    "                        np.where(survey_df['How many pets and of which kind do you have?']==\"1 Cat; 6 Dogs (Over two households)\",\"6 dogs 1 cat\",\n",
    "                        np.where(survey_df['How many pets and of which kind do you have?']==\"three dogs\",\"3 dogs\",\n",
    "                        \"no pets\"))))))))))))\n",
    "survey_df['Pets'].value_counts()"
   ]
  },
  {
   "cell_type": "code",
   "execution_count": 106,
   "id": "c8083276-a52a-4608-b03b-bf6598721044",
   "metadata": {},
   "outputs": [
    {
     "data": {
      "text/plain": [
       "What is your favorite type of food?\n",
       "Italian             6\n",
       "Japanese            5\n",
       "Mexican             5\n",
       "American            3\n",
       "Indian              3\n",
       "Chinese             2\n",
       "all of the above    1\n",
       "korean              1\n",
       "Name: count, dtype: int64"
      ]
     },
     "execution_count": 106,
     "metadata": {},
     "output_type": "execute_result"
    }
   ],
   "source": [
    "survey_df['What is your favorite type of food?'].value_counts()"
   ]
  },
  {
   "cell_type": "code",
   "execution_count": 107,
   "id": "4dedb9c5-024f-48e6-9d8a-39bfc20f5c3a",
   "metadata": {},
   "outputs": [
    {
     "data": {
      "text/plain": [
       "What is your major?\n",
       "Computer Science                                                                                                 10\n",
       "Data Science                                                                                                      3\n",
       "CS/Business                                                                                                       1\n",
       "Business Economics                                                                                                1\n",
       "computer science                                                                                                  1\n",
       "cs/ finance                                                                                                       1\n",
       "Computer Science; considering an additional major or a minor                                                      1\n",
       "comp sci                                                                                                          1\n",
       "Biology w/ evolutionary bio minor                                                                                 1\n",
       "Data science                                                                                                      1\n",
       "Computer Science, B.A. (I might switch to B.S., but I wish to pursue a career in digital IP law, eventually!)     1\n",
       "TBD                                                                                                               1\n",
       "computer science                                                                                                  1\n",
       "Computer science                                                                                                  1\n",
       "Economics                                                                                                         1\n",
       "Name: count, dtype: int64"
      ]
     },
     "execution_count": 107,
     "metadata": {},
     "output_type": "execute_result"
    }
   ],
   "source": [
    "survey_df['What is your major?'].value_counts()"
   ]
  },
  {
   "cell_type": "code",
   "execution_count": 108,
   "id": "cccbcbd0-20ae-489f-b1df-abaf1aaada71",
   "metadata": {},
   "outputs": [
    {
     "data": {
      "text/plain": [
       "Majors\n",
       "Computer Science      17\n",
       "Data Science           4\n",
       "CS/Business            1\n",
       "Business Economics     1\n",
       "CS/Finance             1\n",
       "Biology                1\n",
       "Undecided              1\n",
       "Name: count, dtype: int64"
      ]
     },
     "execution_count": 108,
     "metadata": {},
     "output_type": "execute_result"
    }
   ],
   "source": [
    "survey_df['Majors']=np.where(survey_df['What is your major?']==\"Data Science\",\"Data Science\",\n",
    "                            np.where(survey_df['What is your major?']==\"Data science\",\"Data Science\",\n",
    "                            np.where(survey_df['What is your major?']==\"CS/Business\",\"CS/Business\",\n",
    "                            np.where(survey_df['What is your major?']==\"Business Economics\",\"Business Economics\",\n",
    "                            np.where(survey_df['What is your major?']==\"cs/ finance \",\"CS/Finance\",\n",
    "                            np.where(survey_df['What is your major?']==\"Biology w/ evolutionary bio minor\",\"Biology\",\n",
    "                            np.where(survey_df['What is your major?']==\"TBD\",\"Undecided\",\n",
    "                            np.where(survey_df['What is your major?']==\"Economics\",\"Economics\",\n",
    "                                     \"Computer Science\"))))))))\n",
    "survey_df['Majors'].value_counts()"
   ]
  },
  {
   "cell_type": "code",
   "execution_count": 109,
   "id": "2739b225-1dab-4af9-aa55-214fcd654a0e",
   "metadata": {},
   "outputs": [
    {
     "data": {
      "text/plain": [
       "How old are you?\n",
       "18    18\n",
       "19     4\n",
       "21     2\n",
       "20     1\n",
       "17     1\n",
       "Name: count, dtype: int64"
      ]
     },
     "execution_count": 109,
     "metadata": {},
     "output_type": "execute_result"
    }
   ],
   "source": [
    "survey_df['How old are you?'].value_counts()"
   ]
  },
  {
   "cell_type": "code",
   "execution_count": 110,
   "id": "4d2250db-8ccf-4ad7-a37a-56051c73c04e",
   "metadata": {},
   "outputs": [],
   "source": [
    "survey_df['Ages']=survey_df['How old are you?']"
   ]
  },
  {
   "cell_type": "code",
   "execution_count": 124,
   "id": "9bb5304a-6772-4c9c-9de5-66f5a3325303",
   "metadata": {},
   "outputs": [
    {
     "data": {
      "text/plain": [
       "Text(0.5, 1.0, 'Histogram of Class Origins')"
      ]
     },
     "execution_count": 124,
     "metadata": {},
     "output_type": "execute_result"
    },
    {
     "data": {
      "image/png": "[encoded data removed]",
      "text/plain": [
       "<Figure size 640x480 with 1 Axes>"
      ]
     },
     "metadata": {},
     "output_type": "display_data"
    }
   ],
   "source": [
    "Origins= survey_df[\"Origin\"].value_counts()\n",
    "Origins.plot(kind=\"bar\")\n",
    "plt.xlabel('Origin')\n",
    "plt.ylabel('Count')\n",
    "plt.title('Histogram of Class Origins')"
   ]
  },
  {
   "cell_type": "code",
   "execution_count": null,
   "id": "fbd9f582-d0b1-4a68-8318-d911fbd54a06",
   "metadata": {},
   "outputs": [],
   "source": [
    "# The bar graph shows the number of people in the class from each State or COuntry represented"
   ]
  },
  {
   "cell_type": "code",
   "execution_count": 130,
   "id": "3efe8964-b1b6-4b1d-8e05-2f52a51d14a0",
   "metadata": {},
   "outputs": [
    {
     "data": {
      "text/plain": [
       "[<matplotlib.lines.Line2D at 0x22d4749f760>]"
      ]
     },
     "execution_count": 130,
     "metadata": {},
     "output_type": "execute_result"
    },
    {
     "data": {
      "image/png": "[encoded data removed]",
      "text/plain": [
       "<Figure size 640x480 with 1 Axes>"
      ]
     },
     "metadata": {},
     "output_type": "display_data"
    }
   ],
   "source": [
    "plt.plot(survey_df[\"What is your favorite type of food?\"],survey_df[\"Majors\"],'.')"
   ]
  },
  {
   "cell_type": "code",
   "execution_count": null,
   "id": "964984f1-f054-4254-a5d2-5d73947d22e7",
   "metadata": {},
   "outputs": [],
   "source": [
    "# this scatter plot shows favorite foods by Major"
   ]
  },
  {
   "cell_type": "code",
   "execution_count": 123,
   "id": "df613bc8-d827-43b5-9ca6-e8f0e46030a1",
   "metadata": {},
   "outputs": [
    {
     "data": {
      "text/plain": [
       "<Axes: ylabel='Timestamp'>"
      ]
     },
     "execution_count": 123,
     "metadata": {},
     "output_type": "execute_result"
    },
    {
     "data": {
      "image/png": "[encoded data removed]",
      "text/plain": [
       "<Figure size 640x480 with 1 Axes>"
      ]
     },
     "metadata": {},
     "output_type": "display_data"
    }
   ],
   "source": [
    "agg_ages = survey_df.groupby(\"Ages\").count()\n",
    "agg_ages.plot(kind=\"pie\", y = 'Timestamp')"
   ]
  },
  {
   "cell_type": "code",
   "execution_count": null,
   "id": "72443fca-32c9-4548-987e-7cc2db3cd810",
   "metadata": {},
   "outputs": [],
   "source": [
    "# this pie chart shows the distribution of ages in the class"
   ]
  },
  {
   "cell_type": "code",
   "execution_count": 133,
   "id": "298d8bfb-dd8b-4b35-92a0-7c81619c2cba",
   "metadata": {},
   "outputs": [
    {
     "data": {
      "text/plain": [
       "<Axes: ylabel='Timestamp'>"
      ]
     },
     "execution_count": 133,
     "metadata": {},
     "output_type": "execute_result"
    },
    {
     "data": {
      "image/png": "[encoded data removed]",
      "text/plain": [
       "<Figure size 640x480 with 1 Axes>"
      ]
     },
     "metadata": {},
     "output_type": "display_data"
    }
   ],
   "source": [
    "agg_class = survey_df.groupby(\"What class are you in? \").count()\n",
    "agg_class.plot(kind=\"pie\", y = 'Timestamp')"
   ]
  },
  {
   "cell_type": "code",
   "execution_count": null,
   "id": "eecbd2fe-25f7-4184-8d54-4dfb0eafb46c",
   "metadata": {},
   "outputs": [],
   "source": [
    "# this graph shows the distribution of class levels in our class"
   ]
  },
  {
   "cell_type": "code",
   "execution_count": 134,
   "id": "5af2d28d-9ade-4626-ad0a-70c7ab72758c",
   "metadata": {},
   "outputs": [
    {
     "data": {
      "text/plain": [
       "Text(0.5, 1.0, 'Histogram of Class Pets')"
      ]
     },
     "execution_count": 134,
     "metadata": {},
     "output_type": "execute_result"
    },
    {
     "data": {
      "image/png": "[encoded data removed]",
      "text/plain": [
       "<Figure size 640x480 with 1 Axes>"
      ]
     },
     "metadata": {},
     "output_type": "display_data"
    }
   ],
   "source": [
    "pet_count= survey_df[\"Pets\"].value_counts()\n",
    "pet_count.plot(kind=\"bar\")\n",
    "plt.xlabel('Pets')\n",
    "plt.ylabel('Count')\n",
    "plt.title('Histogram of Class Pets')"
   ]
  },
  {
   "cell_type": "code",
   "execution_count": null,
   "id": "5a810bdb-0369-45dd-931c-3cfaca15a785",
   "metadata": {},
   "outputs": [],
   "source": [
    "# this histogram shows the number of pets the class has"
   ]
  }
 ],
 "metadata": {
  "kernelspec": {
   "display_name": "Python 3 (ipykernel)",
   "language": "python",
   "name": "python3"
  },
  "language_info": {
   "codemirror_mode": {
    "name": "ipython",
    "version": 3
   },
   "file_extension": ".py",
   "mimetype": "text/x-python",
   "name": "python",
   "nbconvert_exporter": "python",
   "pygments_lexer": "ipython3",
   "version": "3.10.11"
  }
 },
 "nbformat": 4,
 "nbformat_minor": 5
}
