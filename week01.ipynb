{
 "cells": [
  {
   "cell_type": "code",
   "execution_count": 6,
   "id": "eb206bde-ef83-408f-9680-f60bf52e8b6c",
   "metadata": {},
   "outputs": [],
   "source": [
    "# 1. \"You can get more information about a function or object in a jupyter cell by clicking on it and hitting shift tab\" "
   ]
  },
  {
   "cell_type": "code",
   "execution_count": 5,
   "id": "7dd99b2b-1d55-45f2-93a7-2ec496d8db72",
   "metadata": {},
   "outputs": [
    {
     "data": {
      "text/plain": [
       "int"
      ]
     },
     "execution_count": 5,
     "metadata": {},
     "output_type": "execute_result"
    }
   ],
   "source": [
    "# 2. \"You can see what type of data an object is by running type(object) in thiscase it is an integer which is the data type whole numbers are stored in\"\n",
    "x = 12\n",
    "type(x)"
   ]
  },
  {
   "cell_type": "code",
   "execution_count": 7,
   "id": "5de615d1-3ff3-4e95-8669-3f8676a69449",
   "metadata": {},
   "outputs": [],
   "source": [
    "# 3. \"Assignment means to give a value to an variable using the assignment operator which in python is the = symbol\"\n",
    "x = \"yellow\""
   ]
  },
  {
   "cell_type": "code",
   "execution_count": 12,
   "id": "81906231-b1c6-4971-a325-518c3877bdd8",
   "metadata": {},
   "outputs": [
    {
     "name": "stdout",
     "output_type": "stream",
     "text": [
      "[1, 2, 3, 'a', 4, 'B']\n"
     ]
    }
   ],
   "source": [
    "# 4. we can use a list to store long strings of data of any type such as numbers or text\n",
    "List = [1,2,3,\"a\",4,\"B\"]\n",
    "print(List)"
   ]
  },
  {
   "cell_type": "code",
   "execution_count": 13,
   "id": "a99cdaaa-7367-4d2e-b44b-3b6a7808ce97",
   "metadata": {},
   "outputs": [
    {
     "name": "stdout",
     "output_type": "stream",
     "text": [
      "{'amy': 0, 'bary': 1111111111, 'charlie': 2222222222}\n"
     ]
    }
   ],
   "source": [
    "# 5. in order to store data that has a linked pair you would want to use a dictionary as it stores two data points \n",
    "phonebook = {\"amy\" : 0000000000,\n",
    "          \"bary\" : 1111111111,\n",
    "          \"charlie\" : 2222222222,}\n",
    "\n",
    "print(phonebook)"
   ]
  },
  {
   "cell_type": "code",
   "execution_count": 15,
   "id": "5bcec851-6583-4bad-922d-282f21e2cb94",
   "metadata": {},
   "outputs": [
    {
     "name": "stdout",
     "output_type": "stream",
     "text": [
      "[8, 4, 6]\n"
     ]
    }
   ],
   "source": [
    "# 6. this is a bad idea because it replaces a set of data without checking what the info is\n",
    "list1 = [2,4,6]\n",
    "list2 = list1\n",
    "list2[0]= 8\n",
    "print(list2)"
   ]
  },
  {
   "cell_type": "code",
   "execution_count": 16,
   "id": "965694f3-019b-436f-a521-17b0186a72ac",
   "metadata": {},
   "outputs": [
    {
     "name": "stdout",
     "output_type": "stream",
     "text": [
      "5\n"
     ]
    }
   ],
   "source": [
    "# 7. Truthy and falsey are types of data or statements that aren't themselves truth or false statements but can be evalueated to either true or false\n",
    "#number values are one such example\n",
    "a = 5\n",
    "if a:\n",
    "    print(a)\n",
    "b = 0\n",
    "if b:\n",
    "    print(b)"
   ]
  },
  {
   "cell_type": "code",
   "execution_count": 20,
   "id": "2af6e520-42bc-4175-b01d-4dc07d95ace7",
   "metadata": {},
   "outputs": [],
   "source": [
    "# 8. statically typed languages have the type of variable known at the time of compile and dynamically typed languages can \n",
    "# determine the type of data when code is run the python is a dynamically typed language Dynamically typed languages can be tyoed quicker \n",
    "# as they require less time to type but they are more prone to errors due to the program misclassifying variable types"
   ]
  },
  {
   "cell_type": "code",
   "execution_count": null,
   "id": "75a3f59b-21f6-43ae-b4c8-8636c56dafc9",
   "metadata": {},
   "outputs": [],
   "source": [
    "# 9. any() and abs() are two built in functions in the python language any() will output true if any element in the variable is true or false\n",
    "# if there are none true or the variable is empty this is used is case of like if any(attemptedpasscodes): open account. abs() will return the absolute\n",
    "# value of any number put inside or in the case of a complex number its magnitude"
   ]
  },
  {
   "cell_type": "code",
   "execution_count": 25,
   "id": "f6995140-eeb6-459d-8092-92e446adea47",
   "metadata": {},
   "outputs": [
    {
     "name": "stdout",
     "output_type": "stream",
     "text": [
      "odd\n"
     ]
    }
   ],
   "source": [
    "# 10. if you want to determine if an integer is odd or even you would use the % operator to determine if an integer is divisible by a number\n",
    "# in this case it would be number % 2 if the number is even it will output 0 as it will have no remainder or 1 if it has a remainder and is odd\n",
    "\n",
    "if 9 % 2 == 0:\n",
    "    print(\"even\")\n",
    "else:\n",
    "    print(\"odd\")\n"
   ]
  },
  {
   "cell_type": "code",
   "execution_count": null,
   "id": "81995181-5ec4-40f7-af0b-0ed765059db7",
   "metadata": {},
   "outputs": [],
   "source": [
    "# 11. An expression is a combination of operators like +-%*/ or operands like and or not which is used to determine a value An expression can evaluate\n",
    "# to true false or a number"
   ]
  },
  {
   "cell_type": "code",
   "execution_count": 28,
   "id": "3151ac09-33a0-417e-8db6-39724867845f",
   "metadata": {},
   "outputs": [
    {
     "name": "stdout",
     "output_type": "stream",
     "text": [
      "neither is greater than the other\n"
     ]
    }
   ],
   "source": [
    "# 12. \n",
    "foo = 77\n",
    "bar = 38\n",
    "if foo > bar:\n",
    "    print(\"foo is greater than bar\")\n",
    "elif bar > foo:\n",
    "    print(\"bar is greater than foo\")\n",
    "else:\n",
    "    print(\"neither is greater than the other\")"
   ]
  },
  {
   "cell_type": "code",
   "execution_count": 3,
   "id": "60f197df-7998-4964-8474-ece0ce420f03",
   "metadata": {},
   "outputs": [
    {
     "name": "stdout",
     "output_type": "stream",
     "text": [
      "odd\n",
      "even\n",
      "odd\n",
      "even\n",
      "odd\n",
      "even\n",
      "odd\n",
      "even\n",
      "odd\n"
     ]
    }
   ],
   "source": [
    "# 13. \n",
    "my_list = [1,2,3,4,5,6,7,8,9]\n",
    "for i in my_list:\n",
    "    if i%2 == 0:\n",
    "        print(\"even\")\n",
    "    else:\n",
    "        print(\"odd\")"
   ]
  },
  {
   "cell_type": "code",
   "execution_count": 7,
   "id": "e153e438-f567-4a87-aeff-02967333b4d9",
   "metadata": {},
   "outputs": [
    {
     "name": "stdout",
     "output_type": "stream",
     "text": [
      "a is greater than or equal to b\n"
     ]
    }
   ],
   "source": [
    "# 14. the greater than equal to operator is a>=b \n",
    "a = 7\n",
    "b = 4 \n",
    "if a>=b:\n",
    "    print(\"a is greater than or equal to b\")"
   ]
  },
  {
   "cell_type": "code",
   "execution_count": 8,
   "id": "be6ac84b-4016-4ef6-9792-a3bee17ee793",
   "metadata": {},
   "outputs": [
    {
     "name": "stdout",
     "output_type": "stream",
     "text": [
      "2.0\n"
     ]
    }
   ],
   "source": [
    "# 15. the floored division operator is / and it does regular division\n",
    "a = 6\n",
    "print(a/3)"
   ]
  },
  {
   "cell_type": "code",
   "execution_count": 9,
   "id": "534c4a13-de5d-4ba9-a76d-faa613e3ed1a",
   "metadata": {},
   "outputs": [],
   "source": [
    "# 16. 2cars does not work because the number is first if the number is placed at the end it works\n",
    "cars2 = (\"ferrari\", \"mustang\")"
   ]
  },
  {
   "cell_type": "code",
   "execution_count": 15,
   "id": "5acc23c2-f567-4747-b5db-0ac5bfdb46cf",
   "metadata": {},
   "outputs": [
    {
     "name": "stdout",
     "output_type": "stream",
     "text": [
      "Hooray!\n"
     ]
    }
   ],
   "source": [
    "# 17. this prints because some_list hase one or more values in it making it truthy and true for the purpose of the if statement\n",
    "some_list = ['fizz','buzz',1,{'key':'value'}]\n",
    "\n",
    "if some_list:\n",
    "    print('Hooray!')"
   ]
  },
  {
   "cell_type": "code",
   "execution_count": 20,
   "id": "82e67a1b-c8d7-40c2-9c95-57a573b320c5",
   "metadata": {},
   "outputs": [
    {
     "name": "stdout",
     "output_type": "stream",
     "text": [
      "10000\n",
      "100000000\n",
      "1000000000000\n",
      "10000000000000000\n",
      "100000000000000000000\n",
      "1000000000000000000000000\n",
      "10000000000000000000000000000\n",
      "100000000000000000000000000000000\n"
     ]
    }
   ],
   "source": [
    "# 18. there are easier ways i just thought this was a fun way to do it\n",
    "a = 10000\n",
    "a2 = a\n",
    "while a2 <= (a*a*a*a*a*a*a*a):\n",
    "    print(a2)\n",
    "    a2 = a2*a"
   ]
  },
  {
   "cell_type": "code",
   "execution_count": 22,
   "id": "c7a65d1b-75cf-464a-b9a6-dc0c6e687193",
   "metadata": {},
   "outputs": [
    {
     "name": "stdout",
     "output_type": "stream",
     "text": [
      "65 65\n"
     ]
    }
   ],
   "source": [
    "# 19. you can put \"\" or '' around the value \n",
    "my_var = 65\n",
    "my_var_str = \"65\"\n",
    "print(my_var, my_var_str)"
   ]
  },
  {
   "cell_type": "code",
   "execution_count": 31,
   "id": "c5de69b3-72b3-4706-b8c7-9eb960b402f2",
   "metadata": {},
   "outputs": [
    {
     "name": "stdout",
     "output_type": "stream",
     "text": [
      "quarter to eight\n"
     ]
    }
   ],
   "source": [
    "# 20. \n",
    "some_string = \"I have got a date at a quarter to eight; I'll see you at the gate, so don't be late\"\n",
    "print(some_string[23:39])\n"
   ]
  },
  {
   "cell_type": "code",
   "execution_count": 33,
   "id": "ed7844eb-cf0b-496e-a924-7499d398a9b3",
   "metadata": {},
   "outputs": [
    {
     "name": "stdout",
     "output_type": "stream",
     "text": [
      "['Chiefs', 'Cardinals', 'Bills', 'Billikens', 'Battlehawks', 'No sports ball for me']\n"
     ]
    }
   ],
   "source": [
    "# 21. \n",
    "my_favorite_teams= ['Chiefs', 'Cardinals', 'Blues', 'Billikens','Battlehawks', 'No sports ball for me']\n",
    "sport = \"Bills\"\n",
    "my_favorite_teams[2] = sport\n",
    "print(my_favorite_teams)"
   ]
  },
  {
   "cell_type": "code",
   "execution_count": null,
   "id": "1c683d46-894a-40b0-8967-7d8883dcd293",
   "metadata": {},
   "outputs": [],
   "source": [
    "# 22. dir() is used to list information about an object like dir(example) would list info about example"
   ]
  },
  {
   "cell_type": "code",
   "execution_count": 56,
   "id": "3a30d116-90bc-4b71-ad9e-25d019d85f3c",
   "metadata": {},
   "outputs": [
    {
     "name": "stdout",
     "output_type": "stream",
     "text": [
      "27\n"
     ]
    }
   ],
   "source": [
    "# 23. \n",
    "def triple(number=3):\n",
    "    print(number*3)\n",
    "\n",
    "triple(9)"
   ]
  },
  {
   "cell_type": "code",
   "execution_count": 60,
   "id": "78d0a3ea-0db2-44bb-aa03-8bc115b589b4",
   "metadata": {},
   "outputs": [
    {
     "name": "stdout",
     "output_type": "stream",
     "text": [
      "108\n",
      "711\n",
      "36\n",
      "810\n",
      "666\n",
      "594\n"
     ]
    }
   ],
   "source": [
    "import random\n",
    "integers_list = [random.randint(0,1000) for i in range(50)]\n",
    "for number in integers_list:\n",
    "    if number%9 == 0:\n",
    "        print(number)\n"
   ]
  },
  {
   "cell_type": "code",
   "execution_count": null,
   "id": "6fe664c8-5372-44bf-b09e-4057db23b903",
   "metadata": {},
   "outputs": [],
   "source": []
  },
  {
   "cell_type": "code",
   "execution_count": null,
   "id": "f4cb6b69-6de8-43a3-a3d2-ab0c35931759",
   "metadata": {},
   "outputs": [],
   "source": []
  },
  {
   "cell_type": "code",
   "execution_count": null,
   "id": "059c7450-eb88-4042-a264-2402102f1877",
   "metadata": {},
   "outputs": [],
   "source": []
  },
  {
   "cell_type": "code",
   "execution_count": null,
   "id": "35fd9669-bc47-4d4c-ad0a-4b99489bef1d",
   "metadata": {},
   "outputs": [],
   "source": []
  },
  {
   "cell_type": "code",
   "execution_count": null,
   "id": "8c896c5e-5f6e-452c-a384-8b5309dbb76d",
   "metadata": {},
   "outputs": [],
   "source": []
  }
 ],
 "metadata": {
  "kernelspec": {
   "display_name": "Python 3 (ipykernel)",
   "language": "python",
   "name": "python3"
  },
  "language_info": {
   "codemirror_mode": {
    "name": "ipython",
    "version": 3
   },
   "file_extension": ".py",
   "mimetype": "text/x-python",
   "name": "python",
   "nbconvert_exporter": "python",
   "pygments_lexer": "ipython3",
   "version": "3.10.11"
  }
 },
 "nbformat": 4,
 "nbformat_minor": 5
}
