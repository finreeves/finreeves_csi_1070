{
 "cells": [
  {
   "cell_type": "code",
   "execution_count": null,
   "id": "ad937d80-4d8a-47df-bf9c-5c1940af45cc",
   "metadata": {},
   "outputs": [],
   "source": [
    "# scales of measurement\n",
    "# Nominal catagories that do not have a natural order EX blood type zipcode race\n",
    "# Ordinal catagories where order matters but the difference between them is neither clear nor even EX satisfaction scores, happiness level from 1-10\n",
    "# Interval There is order and difference between two values is meaningful EX Temperature, credit scores, pH\n",
    "# Ratio the same as interval except there is a concept of 0 there are no negative numbers EX Concentration, Kelvin, Weight"
   ]
  },
  {
   "cell_type": "code",
   "execution_count": null,
   "id": "9bf46e3b-515f-457e-9432-7b4d1dd8496a",
   "metadata": {},
   "outputs": [],
   "source": [
    "# Central tendency represents the center point or typical value of a dataset\n",
    "# as a result our rule of thumb replace all mull values with the mean when the data is normally distributed\n",
    "# Replace all null values with the median when the data is skewed\n",
    "# the peak of the graph is the Mode\n",
    "# positive skew tail or right side Negative skew tail on left side"
   ]
  },
  {
   "cell_type": "code",
   "execution_count": null,
   "id": "c09eb8fc-acf6-4f48-8c4d-a6160ae9a699",
   "metadata": {},
   "outputs": [],
   "source": [
    "# Correlation Coefficient \n",
    "# Positive correlation move in the same direction positive slope\n",
    "# Negative correlation opposite directions ie 1+ the other- negative slope\n",
    "# no correlation is a flat line slope\n",
    "# r = "
   ]
  },
  {
   "cell_type": "code",
   "execution_count": 1,
   "id": "227a3e60-a8b5-48a5-9519-91a8602291a4",
   "metadata": {},
   "outputs": [],
   "source": [
    "import pandas as pd\n",
    "import numpy as np\n",
    "import math\n",
    "import statistics\n",
    "from scipy import stats\n",
    "import matplotlib.pyplot as plt"
   ]
  },
  {
   "cell_type": "code",
   "execution_count": 18,
   "id": "632d97ef-c0c2-4e02-9267-e7b04b5c4cfd",
   "metadata": {},
   "outputs": [
    {
     "data": {
      "text/html": [
       "<div>\n",
       "<style scoped>\n",
       "    .dataframe tbody tr th:only-of-type {\n",
       "        vertical-align: middle;\n",
       "    }\n",
       "\n",
       "    .dataframe tbody tr th {\n",
       "        vertical-align: top;\n",
       "    }\n",
       "\n",
       "    .dataframe thead th {\n",
       "        text-align: right;\n",
       "    }\n",
       "</style>\n",
       "<table border=\"1\" class=\"dataframe\">\n",
       "  <thead>\n",
       "    <tr style=\"text-align: right;\">\n",
       "      <th></th>\n",
       "      <th>color</th>\n",
       "      <th>size</th>\n",
       "      <th>price</th>\n",
       "      <th>type</th>\n",
       "    </tr>\n",
       "  </thead>\n",
       "  <tbody>\n",
       "    <tr>\n",
       "      <th>0</th>\n",
       "      <td>blue</td>\n",
       "      <td>S</td>\n",
       "      <td>20</td>\n",
       "      <td>lemon shirt</td>\n",
       "    </tr>\n",
       "    <tr>\n",
       "      <th>1</th>\n",
       "      <td>blue</td>\n",
       "      <td>M</td>\n",
       "      <td>50</td>\n",
       "      <td>jeans</td>\n",
       "    </tr>\n",
       "    <tr>\n",
       "      <th>2</th>\n",
       "      <td>beige</td>\n",
       "      <td>M</td>\n",
       "      <td>7</td>\n",
       "      <td>buckethat</td>\n",
       "    </tr>\n",
       "  </tbody>\n",
       "</table>\n",
       "</div>"
      ],
      "text/plain": [
       "   color size  price         type\n",
       "0   blue    S     20  lemon shirt\n",
       "1   blue    M     50        jeans\n",
       "2  beige    M      7    buckethat"
      ]
     },
     "execution_count": 18,
     "metadata": {},
     "output_type": "execute_result"
    }
   ],
   "source": [
    "df_clothes = pd.DataFrame(data = [['blue','S',20,'lemon shirt'],\n",
    "                                  ['blue','M',50,'jeans'],\n",
    "                                 ['beige','M',7,'buckethat']])\n",
    "\n",
    "df_clothes.columns = ['color','size','price','type']\n",
    "df_clothes"
   ]
  },
  {
   "cell_type": "code",
   "execution_count": 19,
   "id": "f3afa105-7b4f-4cc4-92cc-31863323ab36",
   "metadata": {},
   "outputs": [
    {
     "data": {
      "text/html": [
       "<div>\n",
       "<style scoped>\n",
       "    .dataframe tbody tr th:only-of-type {\n",
       "        vertical-align: middle;\n",
       "    }\n",
       "\n",
       "    .dataframe tbody tr th {\n",
       "        vertical-align: top;\n",
       "    }\n",
       "\n",
       "    .dataframe thead th {\n",
       "        text-align: right;\n",
       "    }\n",
       "</style>\n",
       "<table border=\"1\" class=\"dataframe\">\n",
       "  <thead>\n",
       "    <tr style=\"text-align: right;\">\n",
       "      <th></th>\n",
       "      <th>color</th>\n",
       "      <th>size</th>\n",
       "      <th>price</th>\n",
       "      <th>type</th>\n",
       "    </tr>\n",
       "  </thead>\n",
       "  <tbody>\n",
       "    <tr>\n",
       "      <th>0</th>\n",
       "      <td>blue</td>\n",
       "      <td>1</td>\n",
       "      <td>20</td>\n",
       "      <td>lemon shirt</td>\n",
       "    </tr>\n",
       "    <tr>\n",
       "      <th>1</th>\n",
       "      <td>blue</td>\n",
       "      <td>2</td>\n",
       "      <td>50</td>\n",
       "      <td>jeans</td>\n",
       "    </tr>\n",
       "    <tr>\n",
       "      <th>2</th>\n",
       "      <td>beige</td>\n",
       "      <td>2</td>\n",
       "      <td>7</td>\n",
       "      <td>buckethat</td>\n",
       "    </tr>\n",
       "  </tbody>\n",
       "</table>\n",
       "</div>"
      ],
      "text/plain": [
       "   color  size  price         type\n",
       "0   blue     1     20  lemon shirt\n",
       "1   blue     2     50        jeans\n",
       "2  beige     2      7    buckethat"
      ]
     },
     "execution_count": 19,
     "metadata": {},
     "output_type": "execute_result"
    }
   ],
   "source": [
    "# can convert catagorical values to numerical\n",
    "# size is ordinal can be easily encoded\n",
    "\n",
    "size_map = {'S':1,'M':2,'L':3}\n",
    "df_clothes['size'] = df_clothes['size'].map(size_map)\n",
    "df_clothes"
   ]
  },
  {
   "cell_type": "code",
   "execution_count": 20,
   "id": "4e0a6721-7214-492b-9cc6-a9b1b865e2a3",
   "metadata": {},
   "outputs": [
    {
     "name": "stdout",
     "output_type": "stream",
     "text": [
      "Requirement already satisfied: scikit-learn in c:\\users\\hamst\\appdata\\local\\programs\\python\\python310\\lib\\site-packages (1.5.2)Note: you may need to restart the kernel to use updated packages.\n",
      "\n",
      "Requirement already satisfied: numpy>=1.19.5 in c:\\users\\hamst\\appdata\\local\\programs\\python\\python310\\lib\\site-packages (from scikit-learn) (2.1.1)\n",
      "Requirement already satisfied: scipy>=1.6.0 in c:\\users\\hamst\\appdata\\local\\programs\\python\\python310\\lib\\site-packages (from scikit-learn) (1.14.1)\n",
      "Requirement already satisfied: joblib>=1.2.0 in c:\\users\\hamst\\appdata\\local\\programs\\python\\python310\\lib\\site-packages (from scikit-learn) (1.4.2)\n",
      "Requirement already satisfied: threadpoolctl>=3.1.0 in c:\\users\\hamst\\appdata\\local\\programs\\python\\python310\\lib\\site-packages (from scikit-learn) (3.5.0)\n"
     ]
    }
   ],
   "source": [
    "%pip install scikit-learn"
   ]
  },
  {
   "cell_type": "code",
   "execution_count": 21,
   "id": "e661a5cc-e967-4369-8511-2cd0026fb137",
   "metadata": {},
   "outputs": [],
   "source": [
    "# Very good for nominal values\n",
    "from sklearn.preprocessing import LabelEncoder\n",
    "# where we want a number so it processes faster but the number doesnt mean anything"
   ]
  },
  {
   "cell_type": "code",
   "execution_count": 22,
   "id": "62cb0cd9-1418-4be8-b7a6-26c90c5c6123",
   "metadata": {},
   "outputs": [
    {
     "data": {
      "text/html": [
       "<div>\n",
       "<style scoped>\n",
       "    .dataframe tbody tr th:only-of-type {\n",
       "        vertical-align: middle;\n",
       "    }\n",
       "\n",
       "    .dataframe tbody tr th {\n",
       "        vertical-align: top;\n",
       "    }\n",
       "\n",
       "    .dataframe thead th {\n",
       "        text-align: right;\n",
       "    }\n",
       "</style>\n",
       "<table border=\"1\" class=\"dataframe\">\n",
       "  <thead>\n",
       "    <tr style=\"text-align: right;\">\n",
       "      <th></th>\n",
       "      <th>color</th>\n",
       "      <th>size</th>\n",
       "      <th>price</th>\n",
       "      <th>type</th>\n",
       "      <th>types</th>\n",
       "    </tr>\n",
       "  </thead>\n",
       "  <tbody>\n",
       "    <tr>\n",
       "      <th>0</th>\n",
       "      <td>blue</td>\n",
       "      <td>1</td>\n",
       "      <td>20</td>\n",
       "      <td>lemon shirt</td>\n",
       "      <td>1</td>\n",
       "    </tr>\n",
       "    <tr>\n",
       "      <th>1</th>\n",
       "      <td>blue</td>\n",
       "      <td>2</td>\n",
       "      <td>50</td>\n",
       "      <td>jeans</td>\n",
       "      <td>1</td>\n",
       "    </tr>\n",
       "    <tr>\n",
       "      <th>2</th>\n",
       "      <td>beige</td>\n",
       "      <td>2</td>\n",
       "      <td>7</td>\n",
       "      <td>buckethat</td>\n",
       "      <td>0</td>\n",
       "    </tr>\n",
       "  </tbody>\n",
       "</table>\n",
       "</div>"
      ],
      "text/plain": [
       "   color  size  price         type  types\n",
       "0   blue     1     20  lemon shirt      1\n",
       "1   blue     2     50        jeans      1\n",
       "2  beige     2      7    buckethat      0"
      ]
     },
     "execution_count": 22,
     "metadata": {},
     "output_type": "execute_result"
    }
   ],
   "source": [
    "class_labels = LabelEncoder()\n",
    "df_clothes['types'] = class_labels.fit_transform(df_clothes['color'].values)\n",
    "df_clothes"
   ]
  },
  {
   "cell_type": "code",
   "execution_count": 23,
   "id": "cbd46200-4c4c-4506-b1f9-72b597b2d379",
   "metadata": {},
   "outputs": [
    {
     "data": {
      "text/html": [
       "<div>\n",
       "<style scoped>\n",
       "    .dataframe tbody tr th:only-of-type {\n",
       "        vertical-align: middle;\n",
       "    }\n",
       "\n",
       "    .dataframe tbody tr th {\n",
       "        vertical-align: top;\n",
       "    }\n",
       "\n",
       "    .dataframe thead th {\n",
       "        text-align: right;\n",
       "    }\n",
       "</style>\n",
       "<table border=\"1\" class=\"dataframe\">\n",
       "  <thead>\n",
       "    <tr style=\"text-align: right;\">\n",
       "      <th></th>\n",
       "      <th>size</th>\n",
       "      <th>price</th>\n",
       "      <th>color_beige</th>\n",
       "      <th>color_blue</th>\n",
       "    </tr>\n",
       "  </thead>\n",
       "  <tbody>\n",
       "    <tr>\n",
       "      <th>0</th>\n",
       "      <td>1</td>\n",
       "      <td>20</td>\n",
       "      <td>False</td>\n",
       "      <td>True</td>\n",
       "    </tr>\n",
       "    <tr>\n",
       "      <th>1</th>\n",
       "      <td>2</td>\n",
       "      <td>50</td>\n",
       "      <td>False</td>\n",
       "      <td>True</td>\n",
       "    </tr>\n",
       "    <tr>\n",
       "      <th>2</th>\n",
       "      <td>2</td>\n",
       "      <td>7</td>\n",
       "      <td>True</td>\n",
       "      <td>False</td>\n",
       "    </tr>\n",
       "  </tbody>\n",
       "</table>\n",
       "</div>"
      ],
      "text/plain": [
       "   size  price  color_beige  color_blue\n",
       "0     1     20        False        True\n",
       "1     2     50        False        True\n",
       "2     2      7         True       False"
      ]
     },
     "execution_count": 23,
     "metadata": {},
     "output_type": "execute_result"
    }
   ],
   "source": [
    "# one hot encoding - easiest way\n",
    "# this doesnt work if you have data that is already numerical\n",
    "\n",
    "df_clothes = pd.get_dummies(df_clothes[['color','size','price',]])\n",
    "df_clothes"
   ]
  },
  {
   "cell_type": "code",
   "execution_count": null,
   "id": "09fc6e2a-6320-49a5-adf5-9e5c9bd9c2aa",
   "metadata": {},
   "outputs": [],
   "source": []
  }
 ],
 "metadata": {
  "kernelspec": {
   "display_name": "Python 3 (ipykernel)",
   "language": "python",
   "name": "python3"
  },
  "language_info": {
   "codemirror_mode": {
    "name": "ipython",
    "version": 3
   },
   "file_extension": ".py",
   "mimetype": "text/x-python",
   "name": "python",
   "nbconvert_exporter": "python",
   "pygments_lexer": "ipython3",
   "version": "3.10.11"
  }
 },
 "nbformat": 4,
 "nbformat_minor": 5
}
