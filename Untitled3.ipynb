{
 "cells": [
  {
   "cell_type": "code",
   "execution_count": 24,
   "id": "45aae910-3619-41e2-98bf-6f03750c6d13",
   "metadata": {},
   "outputs": [],
   "source": [
    "a = [1, 2, 3, 4]\n",
    "\n",
    "def swap_pos(first_pos:int, second_pos:int, list_name:list):\n",
    "    \"\"\"\n",
    "    swaps the position of the first given and second given location in the provided list ie (1,2,3,4) ->\n",
    "    (1,3,2,4)\n",
    "    \"\"\"\n",
    "    list_name[first_pos], list_name[second_pos] = list_name[second_pos], list_name[first_pos]\n",
    "    return list_name\n"
   ]
  },
  {
   "cell_type": "code",
   "execution_count": 25,
   "id": "bf9b1fd6-85a9-467b-a1ef-75833be1a7c4",
   "metadata": {},
   "outputs": [
    {
     "data": {
      "text/plain": [
       "[1, 3, 2, 4]"
      ]
     },
     "execution_count": 25,
     "metadata": {},
     "output_type": "execute_result"
    }
   ],
   "source": [
    "swap_pos(1, 2, a)"
   ]
  },
  {
   "cell_type": "code",
   "execution_count": null,
   "id": "79775676-ebcd-426b-9dbd-c567fbca1bed",
   "metadata": {},
   "outputs": [],
   "source": []
  }
 ],
 "metadata": {
  "kernelspec": {
   "display_name": "Python 3 (ipykernel)",
   "language": "python",
   "name": "python3"
  },
  "language_info": {
   "codemirror_mode": {
    "name": "ipython",
    "version": 3
   },
   "file_extension": ".py",
   "mimetype": "text/x-python",
   "name": "python",
   "nbconvert_exporter": "python",
   "pygments_lexer": "ipython3",
   "version": "3.10.11"
  }
 },
 "nbformat": 4,
 "nbformat_minor": 5
}
