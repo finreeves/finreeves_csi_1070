{
 "cells": [
  {
   "cell_type": "code",
   "execution_count": 1,
   "id": "57434768-aa10-4555-aad4-a366893e33cd",
   "metadata": {},
   "outputs": [
    {
     "name": "stdout",
     "output_type": "stream",
     "text": [
      "My computer has gone crazy and added extra symbols.\n"
     ]
    }
   ],
   "source": [
    "# 1. \n",
    "asterisk = 'My* compu*ter has go*ne craz***y an*d add*ed extra *symbols.*'\n",
    "\n",
    "for letter in asterisk:\n",
    "    if letter == '*':\n",
    "        asterisk = asterisk.replace('*','')\n",
    "print(asterisk)"
   ]
  },
  {
   "cell_type": "code",
   "execution_count": 2,
   "id": "4f21187b-fbd8-4938-ab4b-89f9661e3379",
   "metadata": {},
   "outputs": [
    {
     "name": "stdout",
     "output_type": "stream",
     "text": [
      "0\n",
      "1\n",
      "2\n",
      "3\n",
      "4\n",
      "5\n",
      "6\n",
      "7\n"
     ]
    }
   ],
   "source": [
    "# 2. \n",
    "counter = 0\n",
    "while counter < 8:\n",
    "    print(counter)\n",
    "    counter = counter+1\n"
   ]
  },
  {
   "cell_type": "code",
   "execution_count": 15,
   "id": "42cd3424-827d-495d-855f-8e4c81327c11",
   "metadata": {},
   "outputs": [
    {
     "name": "stdin",
     "output_type": "stream",
     "text": [
      "Enter first number:   0\n",
      "Enter second number:   6\n"
     ]
    },
    {
     "name": "stdout",
     "output_type": "stream",
     "text": [
      "6.0\n"
     ]
    }
   ],
   "source": [
    "# 3. \n",
    "input_one = input(\"Enter first number:  \")\n",
    "input_two = input(\"Enter second number:  \")\n",
    "input_one = float(input_one)\n",
    "input_two = float(input_two)\n",
    "check_1 = input_one%2\n",
    "check_2 = input_two%2\n",
    "\n",
    "if check_1==0 and check_2==0:\n",
    "    output = input_one + input_two\n",
    "    print(output)\n",
    "elif check_1==1 or check_2==1:\n",
    "    output = input_one - input_two\n",
    "    print(output)\n",
    "else:\n",
    "    print('please insert whole numbers')"
   ]
  },
  {
   "cell_type": "code",
   "execution_count": null,
   "id": "dd944c3e-4aac-4ecf-af0e-a5dd5901907b",
   "metadata": {},
   "outputs": [],
   "source": []
  },
  {
   "cell_type": "code",
   "execution_count": 64,
   "id": "4310f02c-5ac4-4801-aa30-4b477f7b122e",
   "metadata": {},
   "outputs": [
    {
     "name": "stdout",
     "output_type": "stream",
     "text": [
      "************\n",
      "***********\n",
      "**********\n",
      "*********\n",
      "********\n",
      "*******\n",
      "******\n",
      "*****\n",
      "****\n",
      "***\n",
      "**\n",
      "*\n"
     ]
    }
   ],
   "source": [
    "# 4. \n",
    "def triangles(n,direction):\n",
    "    if direction == 1:\n",
    "        length = \"\"\n",
    "        for l in range(n):\n",
    "            length += \"*\"\n",
    "        for l in range(n):\n",
    "            print(length)\n",
    "            length = length[1:]\n",
    "    elif direction == 2:\n",
    "        length = \"\"\n",
    "        for l in range(n):\n",
    "            length += \"*\"\n",
    "            print(length)\n",
    "\n",
    "triangles(12,1)"
   ]
  },
  {
   "cell_type": "code",
   "execution_count": 59,
   "id": "ace79d36-c778-440f-8cc2-452b696f2a42",
   "metadata": {},
   "outputs": [
    {
     "name": "stdout",
     "output_type": "stream",
     "text": [
      "a = 8 b = 8 c = 8 d = 2\n"
     ]
    }
   ],
   "source": [
    "# 5. \n",
    "def letter_to_number(letter):\n",
    "    letter = letter.lower()\n",
    "    letter = ord(letter) - ord('a') + 1\n",
    "    a = 0\n",
    "    b = 0\n",
    "    c = 0\n",
    "    d = 0\n",
    "    for value in range(letter):\n",
    "        if a < 8:\n",
    "            a = a+1\n",
    "        elif b < 8:\n",
    "            b = b+1\n",
    "        elif c < 8:\n",
    "            c = c+1\n",
    "        elif d < 8:\n",
    "            d = d+1\n",
    "    print('a =',+ a,\"b =\",+ b,'c =',+ c,'d =',+d)\n",
    "\n",
    "letter_to_number('z')"
   ]
  },
  {
   "cell_type": "code",
   "execution_count": 66,
   "id": "e21e0bc2-0d07-4be7-b503-6a4c882f127e",
   "metadata": {},
   "outputs": [
    {
     "name": "stdout",
     "output_type": "stream",
     "text": [
      "49\n"
     ]
    }
   ],
   "source": [
    "# 6. \n",
    "class Person():\n",
    "    \n",
    "    def __init__(self, name, occupation, country, age):\n",
    "        self.name = name\n",
    "        self.occupation = occupation\n",
    "        self.country = country\n",
    "        self.age = age\n",
    "\n",
    "John = Person('John','plumber','USA','49')\n",
    "print(John.age)"
   ]
  },
  {
   "cell_type": "code",
   "execution_count": 85,
   "id": "5e0ecde3-4fa0-4a3d-99f1-9f741db04d84",
   "metadata": {},
   "outputs": [
    {
     "name": "stdout",
     "output_type": "stream",
     "text": [
      "Meryl Streep: This is my line...\n",
      "Meryl Streep: I lost line 2\n"
     ]
    }
   ],
   "source": [
    "# 7. A static method is a function that relates to class and not the object of the class\n",
    "class actress():\n",
    "    def __init__(self, name = 'Meryl Streep'):\n",
    "        self.name = name\n",
    "        \n",
    "    def act(self, line):\n",
    "        print(f'{self.name}: {line}')\n",
    "    def lost_line(self, line_lost):\n",
    "        print(f'{self.name}: I lost line {line_lost}')\n",
    "    \n",
    "        \n",
    "meryl = actress()\n",
    "meryl.act('This is my line...')\n",
    "meryl.lost_line(2)"
   ]
  },
  {
   "cell_type": "code",
   "execution_count": 95,
   "id": "1c9c6e5c-0944-41f1-bedd-2c4d981779fb",
   "metadata": {},
   "outputs": [
    {
     "name": "stdout",
     "output_type": "stream",
     "text": [
      "6\n",
      "6\n",
      "1\n",
      "2\n",
      "1\n",
      "5\n",
      "3\n"
     ]
    }
   ],
   "source": [
    "# 8. \n",
    "from random import randrange\n",
    "class dice():\n",
    "    def __init__(self, number_of_dice):\n",
    "        self.number_of_dice = number_of_dice\n",
    "\n",
    "    def roll(self, number_of_dice):\n",
    "        for rolls in range(number_of_dice):\n",
    "            print(randrange(1,7))\n",
    "\n",
    "seven = dice(7)\n",
    "seven.roll(7)"
   ]
  },
  {
   "cell_type": "code",
   "execution_count": null,
   "id": "875871a2-4975-426b-95be-171fdb0cc578",
   "metadata": {},
   "outputs": [],
   "source": []
  }
 ],
 "metadata": {
  "kernelspec": {
   "display_name": "Python 3 (ipykernel)",
   "language": "python",
   "name": "python3"
  },
  "language_info": {
   "codemirror_mode": {
    "name": "ipython",
    "version": 3
   },
   "file_extension": ".py",
   "mimetype": "text/x-python",
   "name": "python",
   "nbconvert_exporter": "python",
   "pygments_lexer": "ipython3",
   "version": "3.10.11"
  }
 },
 "nbformat": 4,
 "nbformat_minor": 5
}
