{
 "cells": [
  {
   "cell_type": "code",
   "execution_count": 9,
   "metadata": {},
   "outputs": [],
   "source": [
    "# 1. "
   ]
  },
  {
   "cell_type": "code",
   "execution_count": 10,
   "metadata": {},
   "outputs": [
    {
     "name": "stdout",
     "output_type": "stream",
     "text": [
      "['a', 'b']\n"
     ]
    }
   ],
   "source": [
    "def filter_list(lst):\n",
    "    new_list = [x for x in lst if not isinstance(x, (int, float))]\n",
    "    print(new_list)\n",
    "\n",
    "\n",
    "list1 = [1,2,'a','b',7.6]\n",
    "\n",
    "filter_list(list1)"
   ]
  },
  {
   "cell_type": "code",
   "execution_count": 11,
   "metadata": {},
   "outputs": [],
   "source": [
    "# 2."
   ]
  },
  {
   "cell_type": "code",
   "execution_count": 18,
   "metadata": {},
   "outputs": [
    {
     "name": "stdout",
     "output_type": "stream",
     "text": [
      "1\n",
      "2\n",
      "3 Fizz\n",
      "4\n",
      "5 Buzz\n",
      "6 Fizz\n",
      "7\n",
      "8\n",
      "9 Fizz\n",
      "10 Buzz\n",
      "11\n",
      "12 Fizz\n",
      "13\n",
      "14\n",
      "15 FizzBuzz\n",
      "16\n",
      "17\n",
      "18 Fizz\n",
      "19\n",
      "20 Buzz\n",
      "21 Fizz\n"
     ]
    }
   ],
   "source": [
    "def fizz_buzz(x: int) -> str:\n",
    "    \"\"\"\n",
    "    Take in a number provided by the user then check every number from 1 to that number returning that number and fizz if it is divisible by 3\n",
    "    buzz if it is divisible by 5 and fizzbuzz if it is divisble by both.\n",
    "    \"\"\"\n",
    "    # range(1, x+1) ensures we both avoid checking 0 and also include the x value as ranges are exclusive for the second value\n",
    "    for item in range(1, x+1):\n",
    "        # fizzbuzz is checked first as if it is true both the fizz and buzz checks will see it as true and stop it prematurely\n",
    "        if item % 3 == 0 and item % 5 == 0:\n",
    "            print(item, \"FizzBuzz\")\n",
    "        elif item % 3 == 0:\n",
    "            print(item, \"Fizz\")\n",
    "        elif item % 5 == 0:\n",
    "            print(item, \"Buzz\")\n",
    "        else:\n",
    "            print(item)\n",
    "\n",
    "fizz_buzz(21)"
   ]
  },
  {
   "cell_type": "code",
   "execution_count": null,
   "metadata": {},
   "outputs": [],
   "source": []
  }
 ],
 "metadata": {
  "kernelspec": {
   "display_name": "Python 3",
   "language": "python",
   "name": "python3"
  },
  "language_info": {
   "codemirror_mode": {
    "name": "ipython",
    "version": 3
   },
   "file_extension": ".py",
   "mimetype": "text/x-python",
   "name": "python",
   "nbconvert_exporter": "python",
   "pygments_lexer": "ipython3",
   "version": "3.10.11"
  }
 },
 "nbformat": 4,
 "nbformat_minor": 2
}
